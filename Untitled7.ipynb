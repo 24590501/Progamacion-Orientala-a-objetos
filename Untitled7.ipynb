{
  "nbformat": 4,
  "nbformat_minor": 0,
  "metadata": {
    "colab": {
      "provenance": [],
      "authorship_tag": "ABX9TyN3vQyU0hNshesbKcqHcSGf",
      "include_colab_link": true
    },
    "kernelspec": {
      "name": "python3",
      "display_name": "Python 3"
    },
    "language_info": {
      "name": "python"
    }
  },
  "cells": [
    {
      "cell_type": "markdown",
      "metadata": {
        "id": "view-in-github",
        "colab_type": "text"
      },
      "source": [
        "<a href=\"https://colab.research.google.com/github/24590501/Progamacion-Orientala-a-objetos/blob/main/Untitled7.ipynb\" target=\"_parent\"><img src=\"https://colab.research.google.com/assets/colab-badge.svg\" alt=\"Open In Colab\"/></a>"
      ]
    },
    {
      "cell_type": "code",
      "execution_count": 28,
      "metadata": {
        "colab": {
          "base_uri": "https://localhost:8080/"
        },
        "id": "EhduyV7hSX8w",
        "outputId": "29e97166-2a83-4080-fc98-ac9289415115"
      },
      "outputs": [
        {
          "output_type": "stream",
          "name": "stdout",
          "text": [
            "ingrese un numero:12\n",
            "el numero es par\n"
          ]
        }
      ],
      "source": [
        "class par_impar:\n",
        " def __init__(self,numero):\n",
        "  self.numero=numero\n",
        " def par_impar(self):\n",
        "  modulo=self.numero %2\n",
        "  if modulo==0:\n",
        "   resultado=\"par\"\n",
        "  else:\n",
        "   resultado=\"impar\"\n",
        "  if modulo==0:\n",
        "   print(\"el numero es par\")\n",
        "  else:\n",
        "   print(\"el numero es impar\")\n",
        "  mensaje=f\"El numero {self.numero} es el {resultado}.\"\n",
        "numero=int(input(\"ingrese un numero:\"))\n",
        "par_impar=par_impar(numero)\n",
        "par_impar.par_impar()"
      ]
    }
  ]
}